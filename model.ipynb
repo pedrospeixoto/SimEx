{
 "cells": [
  {
   "cell_type": "markdown",
   "metadata": {},
   "source": [
    "# Micro extraction mechanism model\n",
    "\n",
    "### Pedro S. Peixoto (ppeixoto@usp.br)\n",
    "\n",
    "### Example of model usage \n"
   ]
  },
  {
   "cell_type": "markdown",
   "metadata": {},
   "source": [
    "In this example notebook, we will reproduce Figure 2 of Zhang and Pawliszyn (1993)\n",
    "\n",
    " - Z. Zhang, J. Pawliszyn, Headspace solid-phase microextraction, *Analytical chemistry* 65 (1993) 1843–1852."
   ]
  },
  {
   "cell_type": "code",
   "execution_count": 4,
   "metadata": {},
   "outputs": [
    {
     "ename": "ModuleNotFoundError",
     "evalue": "No module named 'numpy'",
     "output_type": "error",
     "traceback": [
      "\u001b[0;31m---------------------------------------------------------------------------\u001b[0m",
      "\u001b[0;31mModuleNotFoundError\u001b[0m                       Traceback (most recent call last)",
      "\u001b[0;32m<ipython-input-4-ab1f68813a1e>\u001b[0m in \u001b[0;36m<module>\u001b[0;34m()\u001b[0m\n\u001b[1;32m      1\u001b[0m \u001b[0;31m#First import numpy, since all arrays are based on numpy\u001b[0m\u001b[0;34m\u001b[0m\u001b[0;34m\u001b[0m\u001b[0;34m\u001b[0m\u001b[0m\n\u001b[0;32m----> 2\u001b[0;31m \u001b[0;32mimport\u001b[0m \u001b[0mnumpy\u001b[0m \u001b[0;32mas\u001b[0m \u001b[0mnp\u001b[0m\u001b[0;34m\u001b[0m\u001b[0;34m\u001b[0m\u001b[0m\n\u001b[0m\u001b[1;32m      3\u001b[0m \u001b[0;34m\u001b[0m\u001b[0m\n\u001b[1;32m      4\u001b[0m \u001b[0;31m#Import matplotlib, for plotting\u001b[0m\u001b[0;34m\u001b[0m\u001b[0;34m\u001b[0m\u001b[0;34m\u001b[0m\u001b[0m\n\u001b[1;32m      5\u001b[0m \u001b[0mget_ipython\u001b[0m\u001b[0;34m(\u001b[0m\u001b[0;34m)\u001b[0m\u001b[0;34m.\u001b[0m\u001b[0mmagic\u001b[0m\u001b[0;34m(\u001b[0m\u001b[0;34m'matplotlib inline'\u001b[0m\u001b[0;34m)\u001b[0m\u001b[0;34m\u001b[0m\u001b[0;34m\u001b[0m\u001b[0m\n",
      "\u001b[0;31mModuleNotFoundError\u001b[0m: No module named 'numpy'"
     ]
    }
   ],
   "source": [
    "#First import numpy, since all arrays are based on numpy\n",
    "import numpy as np \n",
    "\n",
    "#Import matplotlib, for plotting\n",
    "%matplotlib inline\n",
    "import matplotlib.pyplot as plt"
   ]
  },
  {
   "cell_type": "code",
   "execution_count": null,
   "metadata": {},
   "outputs": [],
   "source": [
    "#Import the main model library\n",
    "import mextractmodel as mex"
   ]
  },
  {
   "cell_type": "markdown",
   "metadata": {},
   "source": [
    "All parameters must be adopted in the same units of space/time/mass/volume\n",
    "here we adopt:\n",
    "- space units: \"cm\" \n",
    "- time units: \"seconds\" (s)\n",
    "- mass: micro-grams (mug)\n",
    "- volume: cm^3 (mL)\n"
   ]
  },
  {
   "cell_type": "code",
   "execution_count": null,
   "metadata": {},
   "outputs": [],
   "source": [
    "#Experiment basename\n",
    "name = \"microextraction_zhang1993_fig2\""
   ]
  },
  {
   "cell_type": "markdown",
   "metadata": {},
   "source": [
    "Now we need to set the domain, that is, the position of the interfaces."
   ]
  },
  {
   "cell_type": "code",
   "execution_count": null,
   "metadata": {},
   "outputs": [],
   "source": [
    "#Domain definition (position of interfaces) \n",
    "# x0   x1   x2\n",
    "# |----|----|\n",
    "#x=np.array([initial_position, interface_1, interface_2, final_position])\n",
    "#x=np.array([0, 1]) # cm\n",
    "#x=np.array([0, 0.5, 1]) # cm\n",
    "x=np.array([0, 0.0056, 0.07, 0.1]) # cm Zhang 1993 Fig 2"
   ]
  },
  {
   "cell_type": "markdown",
   "metadata": {},
   "source": [
    "Now we set the names of the compartments, for ploting purposes"
   ]
  },
  {
   "cell_type": "code",
   "execution_count": null,
   "metadata": {},
   "outputs": [],
   "source": [
    "#Names of compartments\n",
    "#xnames = [\"\", \"\", \"\"]\n",
    "xnames = [\"coating\", \"headspace\", \"aqueous\"]"
   ]
  },
  {
   "cell_type": "markdown",
   "metadata": {},
   "source": [
    "Set initial concentrations, constant in each compartment."
   ]
  },
  {
   "cell_type": "code",
   "execution_count": null,
   "metadata": {},
   "outputs": [],
   "source": [
    "#Initial concentrations in each space\n",
    "#  Assumed constant for each space\n",
    "#   C0   C1   C2\n",
    "# |----|----|----|\n",
    "#C=np.array([0.0, 1.0]) #mug/mL\n",
    "C=np.array([0.0, 0.0, 1.0]) #mug/mL Zhang 1993 Fig 2\n"
   ]
  },
  {
   "cell_type": "markdown",
   "metadata": {},
   "source": [
    "Diffusion coefficients for each compartment, constant at each one."
   ]
  },
  {
   "cell_type": "code",
   "execution_count": null,
   "metadata": {},
   "outputs": [],
   "source": [
    "#Diffusion coefficients for each space\n",
    "#   D0   D1   D2\n",
    "# |----|----|----|\n",
    "#D=np.array([2.0, 1.0]) # 2 spaces (cm^2/s)\n",
    "D=np.array([2.8e-6, 0.077, 1.8e-5]) # (cm^2/s) Zhang 1993 Fig 2"
   ]
  },
  {
   "cell_type": "markdown",
   "metadata": {},
   "source": [
    "Set the partition coefficients. Always enforce zero at external boundaries for no flow condition."
   ]
  },
  {
   "cell_type": "code",
   "execution_count": null,
   "metadata": {},
   "outputs": [],
   "source": [
    "#Partition coefficients K for each interface\n",
    "# Set 0.0 for beggining and endpoints    \n",
    "# K0  K1  K2   K3\n",
    "# |---|---|----|\n",
    "#K=np.array([0.0, 2.0, 0.0]) # 2 boundaries and 1 interface coefficient, non-dimensional\n",
    "K=np.array([0.0, 50.0, 0.2, 0.0]) # Zhang 1993 Fig 2"
   ]
  },
  {
   "cell_type": "markdown",
   "metadata": {},
   "source": [
    "Now configure runtime options"
   ]
  },
  {
   "cell_type": "code",
   "execution_count": null,
   "metadata": {},
   "outputs": [],
   "source": [
    "#Max time definition \n",
    "#maxtime = 10*60 #10 minutes\n",
    "maxtime = 120 #seconds\n",
    "\n",
    "#Time step size\n",
    "dt = 0.001  #Seconds \n",
    "\n",
    "#Plotting time spots\n",
    "iplot_time=np.array([0.0, 3.0, 15.0, 30.0, 60.0, 120])\n",
    "#iplot_time=np.linspace(0, 50, 21, endpoint=True)\n",
    "\n",
    "#Space discretization (number of grid points)\n",
    "N = 200"
   ]
  },
  {
   "cell_type": "markdown",
   "metadata": {},
   "source": [
    "We now build the device with these parameters (we have given the same names of the variables as the device function arguments, but we could have called the variables differently)"
   ]
  },
  {
   "cell_type": "code",
   "execution_count": null,
   "metadata": {},
   "outputs": [],
   "source": [
    "p = mex.device(D = D, K = K, C = C, xspace = x, \n",
    "        xnames = xnames, name = name, \n",
    "        N = N, dt = dt, maxtime = maxtime, iplot_time = iplot_time)"
   ]
  },
  {
   "cell_type": "markdown",
   "metadata": {},
   "source": [
    "\n",
    "\n",
    "Now that the device structure is built, we can actually use in a few ways. "
   ]
  },
  {
   "cell_type": "markdown",
   "metadata": {},
   "source": [
    "Lets loop in time the model to see how the concentrations evolve in time. The main function here is run(), which calculates all time steps of an implicit solver for the model of the device. It will save and return snapshots at all time set in iplot_time."
   ]
  },
  {
   "cell_type": "code",
   "execution_count": null,
   "metadata": {},
   "outputs": [],
   "source": [
    "concentrations = p.run()"
   ]
  },
  {
   "cell_type": "markdown",
   "metadata": {},
   "source": [
    "The snapshots were saved in the csv files and also returned to the list of snapshots given at \"concentrations\". We can use this output to plot the concentrations, as follows."
   ]
  },
  {
   "cell_type": "code",
   "execution_count": null,
   "metadata": {},
   "outputs": [],
   "source": [
    "fig, axes = plt.subplots(1, 1, constrained_layout=True, figsize=(15,10))\n",
    "plt.xlabel(\"x-distance (cm)\")\n",
    "plt.ylabel(\"Concentration ($\\mu g/mL$)\")\n",
    "plt.title(\"Microextration Model\")\n",
    "\n",
    "for i, c in enumerate(concentrations):    \n",
    "    #Plot\n",
    "    t = iplot_time[i]\n",
    "    axes.plot(p.x, c, label=str(t)+\"s\")\n",
    "    \n",
    "axes.legend()\n"
   ]
  },
  {
   "cell_type": "markdown",
   "metadata": {},
   "source": [
    "The model also calculates the theoretical equilibrium state, which may be accessed via p.u_equi_ext. We can plot them all together."
   ]
  },
  {
   "cell_type": "code",
   "execution_count": null,
   "metadata": {},
   "outputs": [],
   "source": [
    "fig, axes = plt.subplots(1, 1, constrained_layout=True, figsize=(15,10))\n",
    "plt.xlabel(\"x-distance (cm)\")\n",
    "plt.ylabel(\"Concentration ($\\mu g/mL$)\")\n",
    "plt.title(\"Microextration Model\")\n",
    "\n",
    "for i, c in enumerate(concentrations):    \n",
    "    #Plot\n",
    "    t = iplot_time[i]\n",
    "    axes.plot(p.x, c, label=str(t)+\"s\")\n",
    "    \n",
    "axes.plot(p.x, p.u_equi_ext, 'k--', label=\"Theoretical \\n Equilibrium\")\n",
    "axes.legend()\n",
    "plt.savefig(p.basename+\"_final.png\")"
   ]
  },
  {
   "cell_type": "markdown",
   "metadata": {},
   "source": [
    "\n"
   ]
  },
  {
   "cell_type": "markdown",
   "metadata": {},
   "source": [
    "We can also add any fancy naming"
   ]
  },
  {
   "cell_type": "code",
   "execution_count": null,
   "metadata": {},
   "outputs": [],
   "source": [
    "fig, axes = plt.subplots(1, 1, constrained_layout=True, figsize=(15,10))\n",
    "plt.xlabel(\"x-distance (cm)\")\n",
    "plt.ylabel(\"Concentration ($\\mu g/mL$)\")\n",
    "plt.title(\"Microextration Model\")\n",
    "\n",
    "for i, name in enumerate(xnames):\n",
    "    x=0.8*p.xspace[i]+0.2*p.xspace[i+1]\n",
    "    plt.text(x, -0.1, name)\n",
    "    \n",
    "for i, c in enumerate(concentrations):    \n",
    "    #Plot\n",
    "    t = iplot_time[i]\n",
    "    axes.plot(p.x, c, label=str(t)+\"s\")\n",
    "    \n",
    "axes.plot(p.x, p.u_equi_ext, 'k--', label=\"Theoretical \\n Equilibrium\")\n",
    "axes.legend()\n",
    "plt.savefig(p.basename+\"_final.png\")"
   ]
  },
  {
   "cell_type": "code",
   "execution_count": null,
   "metadata": {},
   "outputs": [],
   "source": []
  }
 ],
 "metadata": {
  "kernelspec": {
   "display_name": "Python 3",
   "language": "python",
   "name": "python3"
  },
  "language_info": {
   "codemirror_mode": {
    "name": "ipython",
    "version": 3
   },
   "file_extension": ".py",
   "mimetype": "text/x-python",
   "name": "python",
   "nbconvert_exporter": "python",
   "pygments_lexer": "ipython3",
   "version": "3.6.9"
  }
 },
 "nbformat": 4,
 "nbformat_minor": 2
}
