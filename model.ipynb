{
 "cells": [
  {
   "cell_type": "markdown",
   "metadata": {},
   "source": [
    "# Micro extraction mechanism model\n",
    "\n",
    "### Pedro S. Peixoto (ppeixoto@usp.br)\n",
    "\n",
    "### Example of model usage \n"
   ]
  },
  {
   "cell_type": "markdown",
   "metadata": {},
   "source": [
    "In this example notebook, we will reproduce Figure 2 of Zhang and Pawliszyn (1993)\n",
    "\n",
    " - Z. Zhang, J. Pawliszyn, Headspace solid-phase microextraction, *Analytical chemistry* 65 (1993) 1843–1852."
   ]
  },
  {
   "cell_type": "code",
   "execution_count": 1,
   "metadata": {},
   "outputs": [],
   "source": [
    "#First import numpy, since all arrays are based on numpy\n",
    "import numpy as np \n",
    "\n",
    "#Import matplotlib, for plotting\n",
    "%matplotlib inline\n",
    "import matplotlib.pyplot as plt"
   ]
  },
  {
   "cell_type": "code",
   "execution_count": 2,
   "metadata": {},
   "outputs": [],
   "source": [
    "#Import the main model library\n",
    "import mextractmodel as mex"
   ]
  },
  {
   "cell_type": "markdown",
   "metadata": {},
   "source": [
    "All parameters must be adopted in the same units of space/time/mass/volume\n",
    "here we adopt:\n",
    "- space units: \"cm\" \n",
    "- time units: \"seconds\" (s)\n",
    "- mass: micro-grams (mug)\n",
    "- volume: cm^3 (mL)\n"
   ]
  },
  {
   "cell_type": "code",
   "execution_count": 3,
   "metadata": {},
   "outputs": [],
   "source": [
    "#Experiment basename\n",
    "name = \"microextraction_zhang1993_fig2\""
   ]
  },
  {
   "cell_type": "markdown",
   "metadata": {},
   "source": [
    "Now we need to set the domain, that is, the position of the interfaces."
   ]
  },
  {
   "cell_type": "code",
   "execution_count": 4,
   "metadata": {},
   "outputs": [],
   "source": [
    "#Domain definition (position of interfaces) \n",
    "# x0   x1   x2\n",
    "# |----|----|\n",
    "#x=np.array([initial_position, interface_1, interface_2, final_position])\n",
    "#x=np.array([0, 1]) # cm\n",
    "#x=np.array([0, 0.5, 1]) # cm\n",
    "x=np.array([0, 0.0056, 0.07, 0.1]) # cm Zhang 1993 Fig 2"
   ]
  },
  {
   "cell_type": "markdown",
   "metadata": {},
   "source": [
    "Now we set the names of the compartments, for ploting purposes"
   ]
  },
  {
   "cell_type": "code",
   "execution_count": 5,
   "metadata": {},
   "outputs": [],
   "source": [
    "#Names of compartments\n",
    "#xnames = [\"\", \"\", \"\"]\n",
    "xnames = [\"coating\", \"headspace\", \"aqueous\"]"
   ]
  },
  {
   "cell_type": "markdown",
   "metadata": {},
   "source": [
    "Set initial concentrations, constant in each compartment."
   ]
  },
  {
   "cell_type": "code",
   "execution_count": 6,
   "metadata": {},
   "outputs": [],
   "source": [
    "#Initial concentrations in each space\n",
    "#  Assumed constant for each space\n",
    "#   C0   C1   C2\n",
    "# |----|----|----|\n",
    "#C=np.array([0.0, 1.0]) #mug/mL\n",
    "C=np.array([0.0, 0.0, 1.0]) #mug/mL Zhang 1993 Fig 2\n"
   ]
  },
  {
   "cell_type": "markdown",
   "metadata": {},
   "source": [
    "Diffusion coefficients for each compartment, constant at each one."
   ]
  },
  {
   "cell_type": "code",
   "execution_count": 7,
   "metadata": {},
   "outputs": [],
   "source": [
    "#Diffusion coefficients for each space\n",
    "#   D0   D1   D2\n",
    "# |----|----|----|\n",
    "#D=np.array([2.0, 1.0]) # 2 spaces (cm^2/s)\n",
    "D=np.array([2.8e-6, 0.077, 1.8e-5]) # (cm^2/s) Zhang 1993 Fig 2"
   ]
  },
  {
   "cell_type": "markdown",
   "metadata": {},
   "source": [
    "Set the partition coefficients. Always enforce zero at external boundaries for no flow condition."
   ]
  },
  {
   "cell_type": "code",
   "execution_count": 8,
   "metadata": {},
   "outputs": [],
   "source": [
    "#Partition coefficients K for each interface\n",
    "# Set 0.0 for beggining and endpoints    \n",
    "# K0  K1  K2   K3\n",
    "# |---|---|----|\n",
    "#K=np.array([0.0, 2.0, 0.0]) # 2 boundaries and 1 interface coefficient, non-dimensional\n",
    "K=np.array([0.0, 50.0, 0.2, 0.0]) # Zhang 1993 Fig 2"
   ]
  },
  {
   "cell_type": "markdown",
   "metadata": {},
   "source": [
    "Now configure runtime options"
   ]
  },
  {
   "cell_type": "code",
   "execution_count": 9,
   "metadata": {},
   "outputs": [],
   "source": [
    "#Max time definition \n",
    "#maxtime = 10*60 #10 minutes\n",
    "maxtime = 120 #seconds\n",
    "\n",
    "#Time step size\n",
    "dt = 0.001  #Seconds \n",
    "\n",
    "#Plotting time spots\n",
    "iplot_time=np.array([0.0, 3.0, 15.0, 30.0, 60.0, 120])\n",
    "#iplot_time=np.linspace(0, 50, 21, endpoint=True)\n",
    "\n",
    "#Space discretization (number of grid points)\n",
    "N = 500"
   ]
  },
  {
   "cell_type": "markdown",
   "metadata": {},
   "source": [
    "We now build the device with these parameters (we have given the same names of the variables as the device function arguments, but we could have called the variables differently)"
   ]
  },
  {
   "cell_type": "code",
   "execution_count": 10,
   "metadata": {},
   "outputs": [
    {
     "name": "stdout",
     "output_type": "stream",
     "text": [
      "\n",
      "        --------------------------------------------------------------\n",
      "        Micro Extraction Diffusion Model\n",
      "        Pedro S. Peixoto - University of Sao Paulo (ppeixoto@usp.br)\n",
      "        --------------------------------------------------------------\n",
      "        \n",
      "You defined a mechanism with 3 compartment(s).\n",
      "Mechanism layout/interfaces (x):  [0.     0.0056 0.07   0.1   ]\n",
      "Initial concentrations: [0. 0. 1.]\n",
      "Diffusion coefficients: [2.8e-06 7.7e-02 1.8e-05]\n",
      "Interface coefficients: [ 0.  50.   0.2  0. ]\n",
      "Output basename: output/microextraction_zhang1993_fig2/microextraction_zhang1993_fig2\n",
      "\n",
      "Compartment 0  setup\n",
      " Name:                   coating\n",
      " Local Domain:           [0.     0.0056]\n",
      " Difusion (neigbours):   [0.0e+00 2.8e-06 7.7e-02]\n",
      " Border/Interfaces Coef: [ 0. 50.]\n",
      "\n",
      "Compartment 1  setup\n",
      " Name:                   headspace\n",
      " Local Domain:           [0.0056 0.07  ]\n",
      " Difusion (neigbours):   [2.8e-06 7.7e-02 1.8e-05]\n",
      " Border/Interfaces Coef: [50.   0.2]\n",
      "\n",
      "Compartment 2  setup\n",
      " Name:                   aqueous\n",
      " Local Domain:           [0.07 0.1 ]\n",
      " Difusion (neigbours):   [7.7e-02 1.8e-05 0.0e+00]\n",
      " Border/Interfaces Coef: [0.2 0. ]\n",
      "\n",
      "Proposed number of control volumes (grid points):  500\n",
      "Adjusted number of grid points:  500\n",
      "Number of degrees of freedom:  496\n",
      "\n",
      "Time-space info (dx, dt, Nt, maxD, dx/maxD):\n",
      "0.0002 0.001 120000 0.077 0.0025974025974025974\n",
      "\n",
      "Equilibrium concentrations: [3.0339805825242716, 0.06067961165048543, 0.30339805825242716]\n",
      "------------------------------------------------\n",
      "\n"
     ]
    }
   ],
   "source": [
    "p = mex.device(D = D, K = K, C = C, xspace = x, \n",
    "        xnames = xnames, name = name, \n",
    "        N = N, dt = dt, maxtime = maxtime, iplot_time = iplot_time)"
   ]
  },
  {
   "cell_type": "markdown",
   "metadata": {},
   "source": [
    "\n",
    "\n",
    "Now that the device structure is built, we can actually use in a few ways. "
   ]
  },
  {
   "cell_type": "markdown",
   "metadata": {},
   "source": [
    "Lets loop in time the model to see how the concentrations evolve in time. The main function here is run(), which calculates all time steps of an implicit solver for the model of the device. It will save and return snapshots at all time set in iplot_time."
   ]
  },
  {
   "cell_type": "code",
   "execution_count": 11,
   "metadata": {},
   "outputs": [
    {
     "name": "stdout",
     "output_type": "stream",
     "text": [
      " It:  0  Time:  0.0  Mass:  0.0300  %Dif Eq:  229.6000 %\n",
      " It:  3000  Time:  3.0  Mass:  0.0301  %Dif Eq:  227.2692 %\n",
      " It:  15000  Time:  15.0  Mass:  0.0300  %Dif Eq:  122.5575 %\n",
      " It:  30000  Time:  30.0  Mass:  0.0300  %Dif Eq:  47.8957 %\n",
      " It:  60000  Time:  60.0  Mass:  0.0300  %Dif Eq:  7.0569 %\n",
      " It:  120000  Time:  120.0  Mass:  0.0300  %Dif Eq:  0.3969 %\n",
      "\n",
      " %Eq   Time \n",
      "0.5    29.32\n",
      "0.6    32.86\n",
      "0.7    37.42\n",
      "0.8    43.82\n",
      "0.9    54.64\n",
      "0.95    65.21\n",
      "0.99    87.27\n",
      "0.995    101.99\n",
      "\n"
     ]
    }
   ],
   "source": [
    "concentrations = p.run()"
   ]
  },
  {
   "cell_type": "markdown",
   "metadata": {},
   "source": [
    "The snapshots were saved in the csv files and also returned to the list of snapshots given at \"concentrations\". We can use this output to plot the concentrations, as follows. \n",
    "\n",
    "The model also calculates the theoretical equilibrium state, which may be accessed via p.u_equi_ext. We can plot them all together."
   ]
  },
  {
   "cell_type": "code",
   "execution_count": 17,
   "metadata": {},
   "outputs": [
    {
     "data": {
      "image/png": "[encoded data removed]",
      "text/plain": [
       "<Figure size 1080x720 with 1 Axes>"
      ]
     },
     "metadata": {},
     "output_type": "display_data"
    }
   ],
   "source": [
    "fig, axes = plt.subplots(1, 1, constrained_layout=True, figsize=(15,10))\n",
    "plt.xlabel(\"x-distance (cm)\")\n",
    "plt.ylabel(\"Concentration ($\\mu g/mL$)\")\n",
    "plt.title(\"Microextration Model\")\n",
    "\n",
    "for i, c in enumerate(concentrations):    \n",
    "    #Plot\n",
    "    t = iplot_time[i]\n",
    "    axes.plot(p.x, c, label=str(t)+\"s\")\n",
    "    \n",
    "for i, name in enumerate(xnames):\n",
    "    x=0.8*p.xspace[i]+0.2*p.xspace[i+1]\n",
    "    plt.text(x, -0.1, name)\n",
    "    \n",
    "axes.plot(p.x, p.u_equi_ext, 'k--', label=\"Theoretical \\n Equilibrium\")\n",
    "axes.legend()\n",
    "plt.savefig(p.basename+\"_final.png\")"
   ]
  },
  {
   "cell_type": "code",
   "execution_count": null,
   "metadata": {},
   "outputs": [],
   "source": []
  }
 ],
 "metadata": {
  "kernelspec": {
   "display_name": "Python 3",
   "language": "python",
   "name": "python3"
  },
  "language_info": {
   "codemirror_mode": {
    "name": "ipython",
    "version": 3
   },
   "file_extension": ".py",
   "mimetype": "text/x-python",
   "name": "python",
   "nbconvert_exporter": "python",
   "pygments_lexer": "ipython3",
   "version": "3.6.10"
  }
 },
 "nbformat": 4,
 "nbformat_minor": 2
}
