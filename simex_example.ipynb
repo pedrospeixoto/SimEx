{
 "cells": [
  {
   "cell_type": "markdown",
   "metadata": {},
   "source": [
    "# Simulate extraction mechanisms\n",
    "\n"
   ]
  },
  {
   "cell_type": "markdown",
   "metadata": {},
   "source": [
    "## Example of software usage \n",
    "\n",
    "In this example notebook, we will reproduce Figure 2 of \n",
    "\n",
    "- Z. Zhang, J. Pawliszyn, Headspace solid-phase microextraction, Analytical chemistry 65 (1993) 1843–1852."
   ]
  },
  {
   "cell_type": "code",
   "execution_count": 1,
   "metadata": {},
   "outputs": [],
   "source": [
    "#First import numpy, since all arrays are based on numpy\n",
    "import numpy as np \n",
    "\n",
    "#Import matplotlib, for plotting\n",
    "%matplotlib inline\n",
    "import matplotlib.pyplot as plt"
   ]
  },
  {
   "cell_type": "code",
   "execution_count": 2,
   "metadata": {},
   "outputs": [],
   "source": [
    "#Import the main software library\n",
    "import simex_lib as simex"
   ]
  },
  {
   "cell_type": "markdown",
   "metadata": {},
   "source": [
    "All parameters must be adopted in the same units of space/time/mass/volume\n",
    "here we adopt:\n",
    "- space units: centimeters (cm) \n",
    "- time units: seconds (s)\n",
    "- mass: Micrograms (mug)\n",
    "- volume: cubic-centimeters or milliliters (cm^3, mL)\n"
   ]
  },
  {
   "cell_type": "code",
   "execution_count": 3,
   "metadata": {},
   "outputs": [],
   "source": [
    "#Experiment basename (for filenames and figures)\n",
    "name = \"simex_example_zhang1993_fig2\""
   ]
  },
  {
   "cell_type": "markdown",
   "metadata": {},
   "source": [
    "The first step is to set the domain, that is, the position of the interfaces and boundaries."
   ]
  },
  {
   "cell_type": "code",
   "execution_count": 4,
   "metadata": {},
   "outputs": [],
   "source": [
    "#Domain definition (position of interfaces) \n",
    "# x0   x1   x2  x3 \n",
    "# |----|----|---|\n",
    "#x=np.array([initial_position, interface_1, interface_2, final_position])\n",
    "#x=np.array([0, 0.0056, 0.07, 0.1]) # cm \n",
    "x=np.array([0, 0.1-0.07, 0.1-0.0056, 0.1]) # cm  - invert device"
   ]
  },
  {
   "cell_type": "markdown",
   "metadata": {},
   "source": [
    "Now we set the names of the compartments."
   ]
  },
  {
   "cell_type": "code",
   "execution_count": 5,
   "metadata": {},
   "outputs": [],
   "source": [
    "#Names of compartments\n",
    "#xnames = [\"\", \"\", \"\"]\n",
    "#xnames = [\"coating\", \"headspace\", \"aqueous\"]\n",
    "xnames = [\"aqueous\", \"headspace\", \"coating\"] # inverted device"
   ]
  },
  {
   "cell_type": "markdown",
   "metadata": {},
   "source": [
    "Set initial concentrations, constant in each compartment."
   ]
  },
  {
   "cell_type": "code",
   "execution_count": 6,
   "metadata": {},
   "outputs": [],
   "source": [
    "#Initial concentrations in each space\n",
    "#  Assumed constant for each space\n",
    "#   C0   C1   C2   \n",
    "# |----|----|----|\n",
    "#C=np.array([C0, C1, C2])   # (mug/mL)\n",
    "#C=np.array([0.0, 0.0, 1.0]) # (mug/mL)\n",
    "C=np.array([1.0, 0.0, 0.0]) # (mug/mL) - inverted device\n"
   ]
  },
  {
   "cell_type": "markdown",
   "metadata": {},
   "source": [
    "Diffusion coefficients for each compartment, constant at each one."
   ]
  },
  {
   "cell_type": "code",
   "execution_count": 7,
   "metadata": {},
   "outputs": [],
   "source": [
    "#Diffusion coefficients for each space\n",
    "#   D0   D1   D2   \n",
    "# |----|----|----|\n",
    "#D=np.array([D0, D1, D2])           # (cm^2/s)\n",
    "#D=np.array([2.8e-6, 0.077, 1.8e-5]) # (cm^2/s) \n",
    "D=np.array([1.8e-5, 0.077, 2.8e-6]) # (cm^2/s) - inverted device"
   ]
  },
  {
   "cell_type": "markdown",
   "metadata": {},
   "source": [
    "Set the partition coefficients. Always enforce zero at external boundaries for no flow condition."
   ]
  },
  {
   "cell_type": "code",
   "execution_count": 8,
   "metadata": {},
   "outputs": [],
   "source": [
    "#Partition coefficients K for each interface\n",
    "# Set 0.0 for beggining and endpoints    \n",
    "# K0  K1  K2   K3\n",
    "# |---|---|----|\n",
    "#K=np.array([K0, K1, K2, K3]) # 2 boundaries and 2 interface coefficient, non-dimensional\n",
    "#K=np.array([0.0, 50, 0.2, 0.0]) # \n",
    "K=np.array([0.0, 1/0.2, 1/50, 0.0]) # inverted device"
   ]
  },
  {
   "cell_type": "markdown",
   "metadata": {},
   "source": [
    "Now configure runtime options for this simulation."
   ]
  },
  {
   "cell_type": "code",
   "execution_count": 9,
   "metadata": {},
   "outputs": [],
   "source": [
    "#Max time definition (how long to run the simulation)\n",
    "maxtime = 120 # seconds\n",
    "\n",
    "#Time step size\n",
    "dt = 0.001  # seconds - depending on your diffusion coefficients, this may be required to be small\n",
    "\n",
    "#Plotting time spots (snapshots of the concentrations are saved in these time instants)\n",
    "iplot_time=np.array([0.0, 3.0, 15.0, 30.0, 60.0, 120]) # seconds\n",
    "#iplot_time=np.linspace(0, 50, 21, endpoint=True) #Equally spaced plots, for animations\n",
    "\n",
    "#Space discretization (number of grid points) - depending on your device, this may need to be incresed\n",
    "N = 500"
   ]
  },
  {
   "cell_type": "markdown",
   "metadata": {},
   "source": [
    "We now build the device with these parameters (we have given the same names of the variables as the device function arguments, but we could have called the variables differently)."
   ]
  },
  {
   "cell_type": "code",
   "execution_count": 10,
   "metadata": {},
   "outputs": [
    {
     "name": "stdout",
     "output_type": "stream",
     "text": [
      "\n",
      "        --------------------------------------------------------------\n",
      "        Simex - Simulation of Extraction Processes\n",
      "        --------------------------------------------------------------\n",
      "        \n",
      "You defined a device with 3 compartment(s).\n",
      "Mechanism layout/interfaces (x):  [0.     0.03   0.0944 0.1   ]\n",
      "Initial concentrations: [1. 0. 0.]\n",
      "Diffusion coefficients: [1.8e-05 7.7e-02 2.8e-06]\n",
      "Interface coefficients: [0.   5.   0.02 0.  ]\n",
      "Output basename: output/simex_example_zhang1993_fig2/simex_example_zhang1993_fig2\n",
      "\n",
      "Compartment 0  setup\n",
      " Name:                   aqueous\n",
      " Local Domain:           [0.   0.03]\n",
      " Difusion (neigbours):   [0.0e+00 1.8e-05 7.7e-02]\n",
      " Border/Interfaces Coef: [0. 5.]\n",
      "\n",
      "Compartment 1  setup\n",
      " Name:                   headspace\n",
      " Local Domain:           [0.03   0.0944]\n",
      " Difusion (neigbours):   [1.8e-05 7.7e-02 2.8e-06]\n",
      " Border/Interfaces Coef: [5.   0.02]\n",
      "\n",
      "Compartment 2  setup\n",
      " Name:                   coating\n",
      " Local Domain:           [0.0944 0.1   ]\n",
      " Difusion (neigbours):   [7.7e-02 2.8e-06 0.0e+00]\n",
      " Border/Interfaces Coef: [0.02 0.  ]\n",
      "\n",
      "Proposed number of control volumes (grid points):  500\n",
      "Adjusted number of grid points:  500\n",
      "Number of degrees of freedom:  496\n",
      "\n",
      "\n",
      "Time-space info (dx, dt, Nt, maxD, dx/maxD):\n",
      "0.0002 0.001 120000 0.077 0.0025974025974025974\n",
      "\n",
      "Equilibrium concentrations:\n",
      " [0.3033980582524274, 0.06067961165048548, 3.033980582524274]\n",
      "------------------------------------------------\n",
      "\n"
     ]
    }
   ],
   "source": [
    "p = simex.device(\n",
    "        D = D, \n",
    "        K = K, \n",
    "        C = C, \n",
    "        xspace = x, \n",
    "        xnames = xnames, \n",
    "        name = name, \n",
    "        N = N, dt = dt, maxtime = maxtime, iplot_time = iplot_time)"
   ]
  },
  {
   "cell_type": "markdown",
   "metadata": {},
   "source": [
    "\n",
    "\n",
    "Now that the device structure is built, we can actually use in a few ways. "
   ]
  },
  {
   "cell_type": "markdown",
   "metadata": {},
   "source": [
    "Lets loop in time the model to see how the concentrations evolve in time. The main function here is run(), which calculates all time steps of an implicit solver for the model of the device. It will save and return snapshots at all time set in iplot_time."
   ]
  },
  {
   "cell_type": "code",
   "execution_count": 11,
   "metadata": {
    "scrolled": true
   },
   "outputs": [
    {
     "name": "stdout",
     "output_type": "stream",
     "text": [
      " It:  0  Time:  0.0  Mass:  0.03000  %Dif Eq:  229.6000 %\n",
      " It:  3000  Time:  3.0  Mass:  0.03013  %Dif Eq:  227.2692 %\n",
      " It:  15000  Time:  15.0  Mass:  0.03004  %Dif Eq:  122.5575 %\n",
      " It:  30000  Time:  30.0  Mass:  0.03000  %Dif Eq:  47.8957 %\n",
      " It:  60000  Time:  60.0  Mass:  0.02997  %Dif Eq:  7.0569 %\n",
      " It:  120000  Time:  120.0  Mass:  0.02997  %Dif Eq:  0.3969 %\n",
      " \n",
      " Saving concentrations as \n",
      "  output/simex_example_zhang1993_fig2/simex_example_zhang1993_fig2_data.csv\n",
      "\n",
      " %Eq   Time \n",
      "50.0 %   29.32\n",
      "60.0 %   32.86\n",
      "70.0 %   37.42\n",
      "80.0 %   43.82\n",
      "90.0 %   54.64\n",
      "95.0 %   65.21\n",
      "99.0 %   87.27\n",
      "99.5 %   101.99\n",
      "\n"
     ]
    }
   ],
   "source": [
    "concentrations = p.run()"
   ]
  },
  {
   "cell_type": "markdown",
   "metadata": {},
   "source": [
    "The snapshots were saved in the csv files and also returned to the list of snapshots given at \"concentrations\". We can use this output to plot the concentrations, as follows. Other important data may be accessed within the device class (in this case names in variable \"p\"), for example\n",
    "- u_equi_ext : equilibrium state in extended domain (included boundaries/interfaces)\n"
   ]
  },
  {
   "cell_type": "code",
   "execution_count": 12,
   "metadata": {},
   "outputs": [
    {
     "data": {
      "image/png": "[encoded data removed]",
      "text/plain": [
       "<Figure size 1080x720 with 1 Axes>"
      ]
     },
     "metadata": {
      "needs_background": "light"
     },
     "output_type": "display_data"
    }
   ],
   "source": [
    "fig, axes = plt.subplots(1, 1, constrained_layout=True, figsize=(15,10))\n",
    "plt.xlabel(\"x-distance (cm)\")\n",
    "plt.ylabel(\"Concentration ($\\mu g/mL$)\")\n",
    "plt.title(\"Reproduction of Zhang and Pawliszyn Fig 2\")\n",
    "\n",
    "for i, c in enumerate(concentrations):    \n",
    "    #Plot\n",
    "    t = iplot_time[i]\n",
    "    axes.plot(p.x, c, label=str(t)+\"s\")\n",
    "    \n",
    "for i, name in enumerate(xnames):\n",
    "    xlabel=0.5*p.xspace[i]+0.5*p.xspace[i+1]\n",
    "    plt.text(xlabel, -0.1, name)\n",
    "    \n",
    "axes.plot(p.x, p.u_equi_ext, 'k--', label=\"Theoretical \\n Equilibrium\")\n",
    "axes.legend()\n",
    "plt.savefig(p.basename+\"_final.png\")"
   ]
  },
  {
   "cell_type": "code",
   "execution_count": null,
   "metadata": {},
   "outputs": [],
   "source": []
  }
 ],
 "metadata": {
  "kernelspec": {
   "display_name": "Python 3",
   "language": "python",
   "name": "python3"
  },
  "language_info": {
   "codemirror_mode": {
    "name": "ipython",
    "version": 3
   },
   "file_extension": ".py",
   "mimetype": "text/x-python",
   "name": "python",
   "nbconvert_exporter": "python",
   "pygments_lexer": "ipython3",
   "version": "3.7.7"
  }
 },
 "nbformat": 4,
 "nbformat_minor": 2
}
