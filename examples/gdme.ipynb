{
 "cells": [
  {
   "cell_type": "markdown",
   "metadata": {},
   "source": [
    "## GDME"
   ]
  },
  {
   "cell_type": "code",
   "execution_count": 1,
   "metadata": {},
   "outputs": [],
   "source": [
    "#First import numpy, since all arrays are based on numpy\n",
    "import numpy as np \n",
    "\n",
    "#Import matplotlib, for plotting\n",
    "%matplotlib inline\n",
    "import matplotlib.pyplot as plt"
   ]
  },
  {
   "cell_type": "code",
   "execution_count": 2,
   "metadata": {},
   "outputs": [],
   "source": [
    "#Import the main software library\n",
    "import simex_lib as simex"
   ]
  },
  {
   "cell_type": "markdown",
   "metadata": {},
   "source": [
    "All parameters must be adopted in the same units of space/time/mass/volume\n",
    "here we adopt:\n",
    "- space units: centimeters (cm) \n",
    "- time units: seconds (s)\n",
    "- mass: Micrograms (mug)\n",
    "- volume: cubic-centimeters or milliliters (cm^3, mL)\n"
   ]
  },
  {
   "cell_type": "code",
   "execution_count": 3,
   "metadata": {},
   "outputs": [],
   "source": [
    "#Experiment basename (for filenames and figures)\n",
    "name = \"gdme\""
   ]
  },
  {
   "cell_type": "markdown",
   "metadata": {},
   "source": [
    "The first step is to set the domain, that is, the position of the interfaces and boundaries."
   ]
  },
  {
   "cell_type": "code",
   "execution_count": 4,
   "metadata": {},
   "outputs": [],
   "source": [
    "#Domain definition (position of interfaces) \n",
    "# x0   x1   x2  x3 \n",
    "# |----|----|---|\n",
    "#x=np.array([initial_position, interface_1, interface_2, final_position])\n",
    "x=np.array([0, 1, 5, 5.1]) # cm "
   ]
  },
  {
   "cell_type": "markdown",
   "metadata": {},
   "source": [
    "Now we set the names of the compartments."
   ]
  },
  {
   "cell_type": "code",
   "execution_count": 5,
   "metadata": {},
   "outputs": [],
   "source": [
    "#Names of compartments\n",
    "#xnames = [\"\", \"\", \"\"]\n",
    "xnames = [\"sample\", \"headspace\", \"GDMEprobe\"]"
   ]
  },
  {
   "cell_type": "markdown",
   "metadata": {},
   "source": [
    "Set initial concentrations, constant in each compartment."
   ]
  },
  {
   "cell_type": "code",
   "execution_count": 6,
   "metadata": {},
   "outputs": [],
   "source": [
    "#Initial concentrations in each space\n",
    "#  Assumed constant for each space\n",
    "#   C0   C1   C2   \n",
    "# |----|----|----|\n",
    "#C=np.array([C0, C1, C2])   # (mug/mL)\n",
    "C=np.array([0.01, 0.0, 0.0]) # (mug/mL)"
   ]
  },
  {
   "cell_type": "markdown",
   "metadata": {},
   "source": [
    "Diffusion coefficients for each compartment, constant at each one."
   ]
  },
  {
   "cell_type": "code",
   "execution_count": 7,
   "metadata": {},
   "outputs": [],
   "source": [
    "#Diffusion coefficients for each space\n",
    "#   D0   D1   D2   \n",
    "# |----|----|----|\n",
    "#D=np.array([D0, D1, D2])           # (cm^2/s)\n",
    "D=np.array([219e-6, 0.11, 219e-6]) # (cm^2/s)"
   ]
  },
  {
   "cell_type": "markdown",
   "metadata": {},
   "source": [
    "Set the partition coefficients. Always enforce zero at external boundaries for no flow condition."
   ]
  },
  {
   "cell_type": "code",
   "execution_count": 8,
   "metadata": {},
   "outputs": [],
   "source": [
    "#Partition coefficients K for each interface\n",
    "# Set 0.0 for beggining and endpoints    \n",
    "# K0  K1  K2   K3\n",
    "# |---|---|----|\n",
    "#K=np.array([K0, K1, K2, K3]) # 2 boundaries and 2 interface coefficient, non-dimensional\n",
    "K=np.array([0.0, 13.2, 1/13.2, 0.0]) # inverted device"
   ]
  },
  {
   "cell_type": "markdown",
   "metadata": {},
   "source": [
    "Now configure runtime options for this simulation."
   ]
  },
  {
   "cell_type": "code",
   "execution_count": 9,
   "metadata": {},
   "outputs": [],
   "source": [
    "#Max time definition (how long to run the simulation)\n",
    "maxtime = 6000 # seconds\n",
    "\n",
    "#Time step size\n",
    "dt = 0.1  # seconds - depending on your diffusion coefficients, this may be required to be small\n",
    "\n",
    "#Plotting time spots (snapshots of the concentrations are saved in these time instants)\n",
    "iplot_time=np.array([0.0, 300, 600, 1500, 3000, 6000]) # seconds\n",
    "#iplot_time=np.linspace(0, 50, 21, endpoint=True) #Equally spaced plots, for animations\n",
    "\n",
    "#Space discretization (number of grid points) - depending on your device, this may need to be incresed\n",
    "N = 500"
   ]
  },
  {
   "cell_type": "markdown",
   "metadata": {},
   "source": [
    "We now build the device with these parameters (we have given the same names of the variables as the device function arguments, but we could have called the variables differently)."
   ]
  },
  {
   "cell_type": "code",
   "execution_count": 10,
   "metadata": {},
   "outputs": [
    {
     "name": "stdout",
     "output_type": "stream",
     "text": [
      "\n",
      "        --------------------------------------------------------------\n",
      "        Simex - Simulation of Extraction Processes\n",
      "        --------------------------------------------------------------\n",
      "        \n",
      "You defined a device with 3 compartment(s).\n",
      "Mechanism layout/interfaces (x):  [0.  1.  5.  5.1]\n",
      "Initial concentrations: [0.01 0.   0.  ]\n",
      "Diffusion coefficients: [0.000219 0.11     0.000219]\n",
      "Interface coefficients: [ 0.         13.2         0.07575758  0.        ]\n",
      "Output basename: output/gdme/gdme\n",
      "\n",
      "Compartment 0  setup\n",
      " Name:                   sample\n",
      " Local Domain:           [0. 1.]\n",
      " Difusion (neigbours):   [0.       0.000219 0.11    ]\n",
      " Border/Interfaces Coef: [ 0.  13.2]\n",
      "\n",
      "Compartment 1  setup\n",
      " Name:                   headspace\n",
      " Local Domain:           [1. 5.]\n",
      " Difusion (neigbours):   [0.000219 0.11     0.000219]\n",
      " Border/Interfaces Coef: [13.2         0.07575758]\n",
      "\n",
      "Compartment 2  setup\n",
      " Name:                   GDMEprobe\n",
      " Local Domain:           [5.  5.1]\n",
      " Difusion (neigbours):   [0.11     0.000219 0.      ]\n",
      " Border/Interfaces Coef: [0.07575758 0.        ]\n",
      "\n",
      "Proposed number of control volumes (grid points):  500\n",
      "Adjusted number of grid points:  500\n",
      "Number of degrees of freedom:  496\n",
      "\n",
      "\n",
      "Time-space info (dx, dt, Nt, maxD, dx/maxD):\n",
      "0.010199999999999999 0.1 60000 0.11 0.09272727272727271\n",
      "\n",
      "Equilibrium concentrations:\n",
      " [0.007127429805615553, 0.0005399568034557237, 0.007127429805615553]\n",
      "------------------------------------------------\n",
      "\n"
     ]
    }
   ],
   "source": [
    "p = simex.device(\n",
    "        D = D, \n",
    "        K = K, \n",
    "        C = C, \n",
    "        xspace = x, \n",
    "        xnames = xnames, \n",
    "        name = name, \n",
    "        N = N, dt = dt, maxtime = maxtime, iplot_time = iplot_time)"
   ]
  },
  {
   "cell_type": "markdown",
   "metadata": {},
   "source": [
    "\n",
    "\n",
    "Now that the device structure is built, we can actually use in a few ways. "
   ]
  },
  {
   "cell_type": "markdown",
   "metadata": {},
   "source": [
    "Lets loop in time the model to see how the concentrations evolve in time. The main function here is run(), which calculates all time steps of an implicit solver for the model of the device. It will save and return snapshots at all time set in iplot_time."
   ]
  },
  {
   "cell_type": "code",
   "execution_count": 11,
   "metadata": {
    "scrolled": true
   },
   "outputs": [
    {
     "name": "stdout",
     "output_type": "stream",
     "text": [
      " It:  0  Time:  0.0  Mass:  0.01000  %Dif Eq:  100.0000 %\n",
      " It:  3000  Time:  300.0  Mass:  0.01007  %Dif Eq:  46.5363 %\n",
      " It:  6000  Time:  600.0  Mass:  0.01008  %Dif Eq:  31.5721 %\n",
      " It:  15000  Time:  1500.0  Mass:  0.01009  %Dif Eq:  11.2361 %\n",
      " It:  30000  Time:  3000.0  Mass:  0.01009  %Dif Eq:  1.8274 %\n",
      " It:  60000  Time:  6000.0  Mass:  0.01009  %Dif Eq:  0.0498 %\n",
      " \n",
      " Saving concentrations as \n",
      "  output/gdme/gdme_data.csv\n",
      "\n",
      " %Eq   Time \n",
      "50.0 %   263.30\n",
      "60.0 %   385.40\n",
      "70.0 %   651.40\n",
      "80.0 %   1016.30\n",
      "90.0 %   1596.60\n",
      "95.0 %   2169.90\n",
      "99.0 %   3495.20\n",
      "99.5 %   4061.00\n",
      "\n"
     ]
    }
   ],
   "source": [
    "concentrations = p.run()"
   ]
  },
  {
   "cell_type": "markdown",
   "metadata": {},
   "source": [
    "The snapshots were saved in the csv files and also returned to the list of snapshots given at \"concentrations\". We can use this output to plot the concentrations, as follows. "
   ]
  },
  {
   "cell_type": "code",
   "execution_count": 16,
   "metadata": {},
   "outputs": [
    {
     "data": {
      "image/png": "[encoded data removed]",
      "text/plain": [
       "<Figure size 1080x720 with 1 Axes>"
      ]
     },
     "metadata": {
      "needs_background": "light"
     },
     "output_type": "display_data"
    }
   ],
   "source": [
    "fig, axes = plt.subplots(1, 1, constrained_layout=True, figsize=(15,10))\n",
    "plt.xlabel(\"x-distance (cm)\")\n",
    "plt.ylabel(\"concentration ($\\mu g/mL$)\")\n",
    "plt.title(\"gdme\")\n",
    "\n",
    "for i, c in enumerate(concentrations):    \n",
    "    #Plot\n",
    "    t = iplot_time[i]\n",
    "    axes.plot(p.x, c, label=str(t)+\"s\")\n",
    "    \n",
    "for i, name in enumerate(xnames):\n",
    "    xlabel=0.5*p.xspace[i]+0.5*p.xspace[i+1]\n",
    "    plt.text(xlabel, -0.001, name)\n",
    "    \n",
    "axes.plot(p.x, p.u_equi_ext, 'k--', label=\"Theoretical \\n Equilibrium\")\n",
    "axes.legend()\n",
    "plt.savefig(p.basename+\"_final.png\")"
   ]
  },
  {
   "cell_type": "code",
   "execution_count": null,
   "metadata": {},
   "outputs": [],
   "source": []
  }
 ],
 "metadata": {
  "kernelspec": {
   "display_name": "Python 3",
   "language": "python",
   "name": "python3"
  },
  "language_info": {
   "codemirror_mode": {
    "name": "ipython",
    "version": 3
   },
   "file_extension": ".py",
   "mimetype": "text/x-python",
   "name": "python",
   "nbconvert_exporter": "python",
   "pygments_lexer": "ipython3",
   "version": "3.7.8"
  }
 },
 "nbformat": 4,
 "nbformat_minor": 2
}
